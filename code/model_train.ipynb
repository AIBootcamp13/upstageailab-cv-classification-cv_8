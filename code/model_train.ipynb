{
 "cells": [
  {
   "cell_type": "code",
   "execution_count": null,
   "id": "3db2f2a6",
   "metadata": {},
   "outputs": [],
   "source": [
    "import os\n",
    "import time\n",
    "import random\n",
    "\n",
    "import timm\n",
    "import torch\n",
    "import albumentations as A\n",
    "import pandas as pd\n",
    "import numpy as np\n",
    "import torch.nn as nn\n",
    "from albumentations.pytorch import ToTensorV2\n",
    "from torch.optim import Adam\n",
    "from torchvision import transforms\n",
    "from torch.utils.data import Dataset, DataLoader\n",
    "from PIL import Image\n",
    "from tqdm import tqdm\n",
    "from sklearn.metrics import accuracy_score, f1_score"
   ]
  },
  {
   "cell_type": "code",
   "execution_count": null,
   "id": "366ba37f",
   "metadata": {},
   "outputs": [],
   "source": [
    "\n",
    "import pandas as pd\n",
    "# df = pd.read_csv(\"../../input/data/train_100.csv\")\n",
    "df = pd.read_csv(\"../../output/20250709_132928_coat_lite_medium_soft_voting.csv\")\n",
    "df2 = pd.read_csv(\"../../output/20250710_062250_coat_lite_medium_soft_voting_f01234.csv\")\n",
    "df3 = pd.read_csv(\"../../output/20250710_065110_coat_lite_medium_coat_3test_ensemble.csv\")\n",
    "df_best6 = pd.read_csv(\"../../output/20250710_084553_best_hardvoting_ensemble.csv\")\n",
    "df_best4 = pd.read_csv(\"../../output/20250710_094157_best4_hard_voting_ensemble.csv\")\n",
    "df_2stage = pd.read_csv(\"../../output/20250710_142441_two_stage_submission.csv\")\n",
    "# print(df['target'].value_counts().sort_index())\n",
    "# print(df2['target'].value_counts().sort_index())\n",
    "# print(df3['target'].value_counts().sort_index())\n",
    "# print(df_best['target'].value_counts().sort_index())\n",
    "\n",
    "# 각 value_counts 결과를 DataFrame으로 변환\n",
    "vc1 = df['target'].value_counts().sort_index()\n",
    "vc2 = df2['target'].value_counts().sort_index()\n",
    "vc3 = df3['target'].value_counts().sort_index()\n",
    "vc4 = df_best6['target'].value_counts().sort_index()\n",
    "vc5 = df_best4['target'].value_counts().sort_index()\n",
    "vc6 = df_2stage['target'].value_counts().sort_index()\n",
    "\n",
    "# 하나의 DataFrame으로 합치기\n",
    "merged_df = pd.concat([ vc3, vc4, vc5, vc6], axis=1)\n",
    "\n",
    "# 열 이름 지정 (선택적으로 수정 가능)\n",
    "merged_df.columns = [ '3개hardvote(0.9581)', 'best6hardvote(미정)', 'best4hardvote(미정)', '2stage(미정)' ]\n",
    "\n",
    "# 결과 출력\n",
    "print(merged_df)\n",
    "\n"
   ]
  },
  {
   "cell_type": "code",
   "execution_count": null,
   "id": "a37c3569",
   "metadata": {},
   "outputs": [],
   "source": [
    "import pandas as pd\n",
    "\n",
    "\n",
    "df = pd.read_csv(\"../../input/data/train_100.csv\")\n",
    "print(df[df['target'] == 15])"
   ]
  },
  {
   "cell_type": "code",
   "execution_count": 3,
   "id": "fcda8a60",
   "metadata": {},
   "outputs": [
    {
     "name": "stdout",
     "output_type": "stream",
     "text": [
      "✅ 저장 완료: coat_lite_medium_doc_target_map.json → {0: 0, 1: 1, 3: 2, 4: 3, 5: 4, 6: 5, 7: 6, 8: 7, 9: 8, 10: 9, 11: 10, 12: 11, 13: 12, 14: 13, 15: 14}\n"
     ]
    }
   ],
   "source": [
    "import pandas as pd\n",
    "import json\n",
    "\n",
    "data_dir = '../input/data'\n",
    "\n",
    "# 데이터 불러오기\n",
    "df1 = pd.read_csv(f\"{data_dir}/train_100.csv\")\n",
    "df2 = pd.read_csv(f\"{data_dir}/augmented.csv\")\n",
    "df = pd.concat([df1, df2], ignore_index=True)\n",
    "\n",
    "# 2, 16 제외한 클래스만 선택\n",
    "df = df[~df['target'].isin([2, 16])]\n",
    "\n",
    "# target_map 생성 (numpy 타입 방지)\n",
    "unique_targets = sorted(df['target'].unique())\n",
    "target_map = {int(old): idx for idx, old in enumerate(unique_targets)}  # ✅ int로 캐스팅\n",
    "\n",
    "# 저장\n",
    "model_name = 'coat_lite_medium'\n",
    "with open(f\"{model_name}_doc_target_map.json\", \"w\") as f:\n",
    "    json.dump(target_map, f)\n",
    "\n",
    "print(f\"✅ 저장 완료: {model_name}_doc_target_map.json → {target_map}\")\n"
   ]
  }
 ],
 "metadata": {
  "kernelspec": {
   "display_name": "base",
   "language": "python",
   "name": "python3"
  },
  "language_info": {
   "codemirror_mode": {
    "name": "ipython",
    "version": 3
   },
   "file_extension": ".py",
   "mimetype": "text/x-python",
   "name": "python",
   "nbconvert_exporter": "python",
   "pygments_lexer": "ipython3",
   "version": "3.10.13"
  }
 },
 "nbformat": 4,
 "nbformat_minor": 5
}
